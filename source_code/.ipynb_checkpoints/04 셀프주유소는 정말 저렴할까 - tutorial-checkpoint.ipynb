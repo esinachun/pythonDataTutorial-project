{
 "cells": [
  {
   "cell_type": "code",
   "execution_count": 1,
   "metadata": {},
   "outputs": [],
   "source": [
    "from selenium import webdriver"
   ]
  },
  {
   "cell_type": "code",
   "execution_count": 2,
   "metadata": {},
   "outputs": [],
   "source": [
    "#자동으로 웹페이지 띄워보기\n",
    "driver = webdriver.Chrome('../driver/chromedriver')\n",
    "driver.get(\"http://naver.com\")                        "
   ]
  },
  {
   "cell_type": "code",
   "execution_count": 4,
   "metadata": {},
   "outputs": [
    {
     "name": "stderr",
     "output_type": "stream",
     "text": [
      "/Users/wonbang/anaconda3/lib/python3.6/site-packages/selenium/webdriver/remote/webdriver.py:1009: UserWarning: name used for saved screenshot does not match file type. It should end with a `.png` extension\n",
      "  \"type. It should end with a `.png` extension\", UserWarning)\n"
     ]
    },
    {
     "data": {
      "text/plain": [
       "True"
      ]
     },
     "execution_count": 4,
     "metadata": {},
     "output_type": "execute_result"
    }
   ],
   "source": [
    "driver.save_screenshot('../images/001.jpg')"
   ]
  },
  {
   "cell_type": "code",
   "execution_count": 11,
   "metadata": {},
   "outputs": [],
   "source": [
    "#자동으로 로그인창 입력\n",
    "xpath = \"\"\"//*[@id=\"account\"]/div/a/i\"\"\"\n",
    "driver.find_element_by_xpath(xpath).click()\n",
    "\n",
    "elem_login = driver.find_element_by_id(\"id\")\n",
    "elem_login.clear() #입력된 경우 clear\n",
    "elem_login.send_keys(\"esinachun\")\n",
    "\n",
    "elem_login = driver.find_element_by_id(\"pw\")\n",
    "elem_login.clear\n",
    "elem_login.send_keys(\"96adeaa6!\")\n",
    "\n",
    "xpath = \"\"\"//*[@id=\"frmNIDLogin\"]/fieldset/input\"\"\"\n",
    "driver.find_element_by_xpath(xpath).click()"
   ]
  },
  {
   "cell_type": "code",
   "execution_count": 12,
   "metadata": {},
   "outputs": [],
   "source": [
    "driver.get(\"http://mail.naver.com\")"
   ]
  },
  {
   "cell_type": "code",
   "execution_count": 13,
   "metadata": {},
   "outputs": [],
   "source": [
    "from bs4 import BeautifulSoup\n",
    "\n",
    "html = driver.page_source\n",
    "soup = BeautifulSoup(html, 'html.parser')"
   ]
  },
  {
   "cell_type": "code",
   "execution_count": 15,
   "metadata": {},
   "outputs": [
    {
     "data": {
      "text/plain": [
       "[<div class=\"name _ccr(lst.from) \"><span class=\"blind\">보낸 이:</span><a class=\"_c1(myContextMenu|showSenderContextLayer|list|8826) _stopDefault\" href=\"#\" title='\"티몬\" &lt;noreply@ticketmonster.co.kr&gt;'>티몬</a></div>,\n",
       " <div class=\"name _ccr(lst.from) \"><span class=\"blind\">보낸 이:</span><a class=\"_c1(myContextMenu|showSenderContextLayer|list|8825) _stopDefault\" href=\"#\" title='\"티몬\" &lt;noreply@ticketmonster.co.kr&gt;'>티몬</a></div>,\n",
       " <div class=\"name _ccr(lst.from) \"><span class=\"blind\">보낸 이:</span><a class=\"_c1(myContextMenu|showSenderContextLayer|list|8824) _stopDefault\" href=\"#\" title='\"중고카페 그린유즈 (중고.패션.맘.유아.폰.가전.가구.원룸.차)\" &lt;navercafe@naver.com&gt;'>중고카페 그린유즈 (..</a></div>,\n",
       " <div class=\"name _ccr(lst.from) \"><span class=\"blind\">보낸 이:</span><a class=\"_c1(myContextMenu|showSenderContextLayer|list|8823) _stopDefault\" href=\"#\" title='\"박경현\" &lt;dlrudal8@edgeideas.co.kr&gt;'>박경현</a></div>,\n",
       " <div class=\"name _ccr(lst.from) \"><span class=\"blind\">보낸 이:</span><a class=\"_c1(myContextMenu|showSenderContextLayer|list|8822) _stopDefault\" href=\"#\" title='\"중고카페 그린유즈 (중고.패션.맘.유아.폰.가전.가구.원룸.차)\" &lt;navercafe@naver.com&gt;'>중고카페 그린유즈 (..</a></div>,\n",
       " <div class=\"name _ccr(lst.from) \"><span class=\"blind\">보낸 이:</span><a class=\"_c1(myContextMenu|showSenderContextLayer|list|8821) _stopDefault\" href=\"#\" title='\"zzixx\" &lt;letter@zzixx.com&gt;'>zzixx</a></div>,\n",
       " <div class=\"name _ccr(lst.from) \"><span class=\"blind\">보낸 이:</span><a class=\"_c1(myContextMenu|showSenderContextLayer|list|8820) _stopDefault\" href=\"#\" title='\"중고카페 그린유즈 (중고.패션.맘.유아.폰.가전.가구.원룸.차)\" &lt;navercafe@naver.com&gt;'>중고카페 그린유즈 (..</a></div>,\n",
       " <div class=\"name _ccr(lst.from) \"><span class=\"blind\">보낸 이:</span><a class=\"_c1(myContextMenu|showSenderContextLayer|list|8819) _stopDefault\" href=\"#\" title='\"히어로\" &lt;herosolution@nate.com&gt;'>히어로</a></div>,\n",
       " <div class=\"name _ccr(lst.from) \"><span class=\"blind\">보낸 이:</span><a class=\"_c1(myContextMenu|showSenderContextLayer|list|8818) _stopDefault\" href=\"#\" title='\"중고카페 그린유즈 (중고.패션.맘.유아.폰.가전.가구.원룸.차)\" &lt;navercafe@naver.com&gt;'>중고카페 그린유즈 (..</a></div>,\n",
       " <div class=\"name _ccr(lst.from) \"><span class=\"blind\">보낸 이:</span><a class=\"_c1(myContextMenu|showSenderContextLayer|list|8817) _stopDefault\" href=\"#\" title='\"중고나라\" &lt;navercafe@naver.com&gt;'>중고나라</a></div>,\n",
       " <div class=\"name _ccr(lst.from) \"><span class=\"blind\">보낸 이:</span><a class=\"_c1(myContextMenu|showSenderContextLayer|list|8816) _stopDefault\" href=\"#\" title='\"아사모 -[아이폰, 아이폰8 /8+ , 아이폰X, 아이패드, 애플워치3]\" &lt;navercafe@naver.com&gt;'>아사모 -[아이폰, 아..</a></div>,\n",
       " <div class=\"name _ccr(lst.from) \"><span class=\"blind\">보낸 이:</span><a class=\"_c1(myContextMenu|showSenderContextLayer|list|8815) _stopDefault\" href=\"#\" title='\"Kakao Developers\" &lt;noreply@kakaocorp.com&gt;'>Kakao Developers</a></div>,\n",
       " <div class=\"name _ccr(lst.from) \"><span class=\"blind\">보낸 이:</span><a class=\"_c1(myContextMenu|showSenderContextLayer|list|8814) _stopDefault\" href=\"#\" title='\"중고나라\" &lt;navercafe@naver.com&gt;'>중고나라</a></div>,\n",
       " <div class=\"name _ccr(lst.from) \"><span class=\"blind\">보낸 이:</span><a class=\"_c1(myContextMenu|showSenderContextLayer|list|8813) _stopDefault\" href=\"#\" title='\"중소벤처기업부인증법인 (주)한국기업컨설팅\" &lt;hdvoice82@naver.com&gt;'>중소벤처기업부인증..</a></div>,\n",
       " <div class=\"name _ccr(lst.from) \"><span class=\"blind\">보낸 이:</span><a class=\"_c1(myContextMenu|showSenderContextLayer|list|8812) _stopDefault\" href=\"#\" title='\"중고나라\" &lt;navercafe@naver.com&gt;'>중고나라</a></div>]"
      ]
     },
     "execution_count": 15,
     "metadata": {},
     "output_type": "execute_result"
    }
   ],
   "source": [
    "raw_list = soup.find_all('div', 'name _ccr(lst.from) ')\n",
    "raw_list"
   ]
  },
  {
   "cell_type": "code",
   "execution_count": 16,
   "metadata": {},
   "outputs": [
    {
     "data": {
      "text/plain": [
       "['티몬',\n",
       " '티몬',\n",
       " '중고카페 그린유즈 (..',\n",
       " '박경현',\n",
       " '중고카페 그린유즈 (..',\n",
       " 'zzixx',\n",
       " '중고카페 그린유즈 (..',\n",
       " '히어로',\n",
       " '중고카페 그린유즈 (..',\n",
       " '중고나라',\n",
       " '아사모 -[아이폰, 아..',\n",
       " 'Kakao Developers',\n",
       " '중고나라',\n",
       " '중소벤처기업부인증..',\n",
       " '중고나라']"
      ]
     },
     "execution_count": 16,
     "metadata": {},
     "output_type": "execute_result"
    }
   ],
   "source": [
    "send_list = [raw_list[n].find('a').get_text() for n in range(0, len(raw_list))]\n",
    "send_list"
   ]
  },
  {
   "cell_type": "code",
   "execution_count": 17,
   "metadata": {},
   "outputs": [],
   "source": [
    "driver.close()"
   ]
  },
  {
   "cell_type": "code",
   "execution_count": null,
   "metadata": {},
   "outputs": [],
   "source": []
  }
 ],
 "metadata": {
  "kernelspec": {
   "display_name": "Python 3",
   "language": "python",
   "name": "python3"
  },
  "language_info": {
   "codemirror_mode": {
    "name": "ipython",
    "version": 3
   },
   "file_extension": ".py",
   "mimetype": "text/x-python",
   "name": "python",
   "nbconvert_exporter": "python",
   "pygments_lexer": "ipython3",
   "version": "3.6.4"
  }
 },
 "nbformat": 4,
 "nbformat_minor": 2
}
